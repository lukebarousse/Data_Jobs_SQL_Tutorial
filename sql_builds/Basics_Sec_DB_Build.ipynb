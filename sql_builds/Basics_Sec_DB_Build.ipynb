{
 "cells": [
  {
   "cell_type": "markdown",
   "metadata": {},
   "source": [
    "# Notebook to Create SQL Database for tutorial\n",
    "Main Database Build\n",
    "\n",
    "### Import libraries\n",
    "NOTE: Used magic command of %%bigquery to execute sql and save to pandas dataframe"
   ]
  },
  {
   "cell_type": "code",
   "execution_count": 1,
   "metadata": {},
   "outputs": [],
   "source": [
    "import pandas as pd\n",
    "import matplotlib.pyplot as plt\n",
    "import numpy as np\n",
    "from google.cloud import bigquery\n",
    "pd.set_option('display.max_columns', None)\n",
    "\n",
    "%load_ext google.cloud.bigquery\n",
    "# for large datasets store data in google storage for improved speed using the following command\n",
    "# %bigquery --project job-listings-366015 --use_bqstorage_api "
   ]
  },
  {
   "cell_type": "markdown",
   "metadata": {},
   "source": [
    "## Import Hourly Data"
   ]
  },
  {
   "cell_type": "code",
   "execution_count": 2,
   "metadata": {
    "vscode": {
     "languageId": "sql"
    }
   },
   "outputs": [
    {
     "data": {
      "application/vnd.jupyter.widget-view+json": {
       "model_id": "ab1a568278b14f19bdf8036e65ef686b",
       "version_major": 2,
       "version_minor": 0
      },
      "text/plain": [
       "Query is running:   0%|          |"
      ]
     },
     "metadata": {},
     "output_type": "display_data"
    },
    {
     "data": {
      "application/vnd.jupyter.widget-view+json": {
       "model_id": "0e61c3b7d6184584b914abfaaacca071",
       "version_major": 2,
       "version_minor": 0
      },
      "text/plain": [
       "Downloading:   0%|          |"
      ]
     },
     "metadata": {},
     "output_type": "display_data"
    }
   ],
   "source": [
    "%%bigquery gsearch_jobs_wide\n",
    "-- Job posting where salary rate is 'year' and 'hour'\n",
    "-- filter search_time to 2023-01-01 to 2023-12-31\n",
    "SELECT *\n",
    "FROM `job-listings-366015.gsearch_job_listings_clean.gsearch_jobs_wide`\n",
    "WHERE salary_rate = 'hour'\n",
    "AND search_time BETWEEN '2023-01-01' AND '2024-01-01'"
   ]
  },
  {
   "cell_type": "code",
   "execution_count": 3,
   "metadata": {},
   "outputs": [
    {
     "data": {
      "text/plain": [
       "46477"
      ]
     },
     "execution_count": 3,
     "metadata": {},
     "output_type": "execute_result"
    }
   ],
   "source": [
    "len(gsearch_jobs_wide)"
   ]
  },
  {
   "cell_type": "markdown",
   "metadata": {},
   "source": [
    "### Columns to name:  \n",
    "ActivityID (Integer): Unique identifier for each activity.  \n",
    "NerdID (Integer): Identifier for professionals (analysts, engineers, scientists).  \n",
    "NerdRole (String): Role of the professional (e.g., Data Analyst, Data Scientist).  \n",
    "ProjectID (Integer): Identifier for projects worked on.  \n",
    "ClientCompany (String): Name of the client company.  \n",
    "HoursSpent (Decimal): Hours logged per activity.  \n",
    "ActivityDate (Date): Date when the activity was recorded.  \n",
    "ToolUsed (String): Software or tool used (e.g., Python, SQL, Tableau)."
   ]
  },
  {
   "cell_type": "code",
   "execution_count": 4,
   "metadata": {},
   "outputs": [],
   "source": [
    "job_invoice_fact = gsearch_jobs_wide[['job_title', 'job_title_final', 'company_name', 'search_time', 'keywords_all', 'salary_hour']]"
   ]
  },
  {
   "cell_type": "markdown",
   "metadata": {},
   "source": [
    "## Activity ID"
   ]
  },
  {
   "cell_type": "code",
   "execution_count": 5,
   "metadata": {},
   "outputs": [],
   "source": [
    "# order by search_time\n",
    "job_invoice_fact = job_invoice_fact.sort_values(by=['search_time'])\n",
    "\n",
    "# reset the index\n",
    "job_invoice_fact = job_invoice_fact.reset_index(drop=True)\n",
    "\n",
    "# create column called activity_id and number it from 100000 onwards\n",
    "job_invoice_fact['activity_id'] = job_invoice_fact.index + 100000"
   ]
  },
  {
   "cell_type": "markdown",
   "metadata": {},
   "source": [
    "## Nerd ID"
   ]
  },
  {
   "cell_type": "code",
   "execution_count": 6,
   "metadata": {},
   "outputs": [],
   "source": [
    "job_invoice_fact\n",
    "\n",
    "# based on the job_title and company_name, create a unique identification number for each\n",
    "job_invoice_fact['nerd_id'] = job_invoice_fact['job_title'] + '_' + job_invoice_fact['company_name'] + '_' + job_invoice_fact['salary_hour'].astype(str) + '_' + job_invoice_fact['keywords_all'].astype(str)\n",
    "\n",
    "# create a unique identification number for each title_company_id\n",
    "job_invoice_fact['nerd_id'] = job_invoice_fact['nerd_id'].astype('category').cat.codes\n"
   ]
  },
  {
   "cell_type": "markdown",
   "metadata": {},
   "source": [
    "## Nerd Role"
   ]
  },
  {
   "cell_type": "code",
   "execution_count": 7,
   "metadata": {},
   "outputs": [],
   "source": [
    "# rename job_title_final to nerd_role\n",
    "job_invoice_fact = job_invoice_fact.rename(columns={'job_title_final': 'nerd_role'})"
   ]
  },
  {
   "cell_type": "markdown",
   "metadata": {},
   "source": [
    "## Client Company"
   ]
  },
  {
   "cell_type": "code",
   "execution_count": 8,
   "metadata": {},
   "outputs": [],
   "source": [
    "# rename company name as project_company\n",
    "job_invoice_fact = job_invoice_fact.rename(columns={'company_name': 'project_company'})"
   ]
  },
  {
   "cell_type": "markdown",
   "metadata": {},
   "source": [
    "## Project ID"
   ]
  },
  {
   "cell_type": "code",
   "execution_count": 9,
   "metadata": {},
   "outputs": [],
   "source": [
    "# based on the job_title and company_name, create a unique identification number for each\n",
    "job_invoice_fact['project_id'] = job_invoice_fact['nerd_role'] + '_' + job_invoice_fact['job_title'] + '_' + job_invoice_fact['project_company']\n",
    "\n",
    "# create a unique identification number for each title_company_id\n",
    "job_invoice_fact['project_id'] = job_invoice_fact['project_id'].astype('category').cat.codes\n",
    "\n",
    "# remove job_title column\n",
    "job_invoice_fact = job_invoice_fact.drop(columns=['job_title'])"
   ]
  },
  {
   "cell_type": "markdown",
   "metadata": {},
   "source": [
    "## Hours Spent"
   ]
  },
  {
   "cell_type": "code",
   "execution_count": 10,
   "metadata": {},
   "outputs": [],
   "source": [
    "# create a new column called hours_spent and populate it with values between 1 and 2080\n",
    "\n",
    "# create a nerd_ids listing the quanitty of each nerd_id\n",
    "nerd_ids = job_invoice_fact['nerd_id'].value_counts()\n",
    "\n",
    "# convert this into a dataframe with column names nerd_id and jobs_completed\n",
    "nerd_ids = nerd_ids.rename_axis('nerd_id').reset_index(name='jobs_completed')\n",
    "\n",
    "# create a new column on avg hours per job, which is 2080 divided by jobs_completed\n",
    "nerd_ids['avg_hours_per_job'] = 2080 / nerd_ids['jobs_completed']\n",
    "\n",
    "# merge this dataframe with the job_invoice_fact dataframe based on the nerd_id\n",
    "job_invoice_fact = pd.merge(job_invoice_fact, nerd_ids, on='nerd_id')\n",
    "\n",
    "# create a new column called hours_spent and use the apply function to generate the value based on a random number using np.random.normal() from the avg_hours_per_job column and using 10% of this value as the standand deviation\n",
    "job_invoice_fact['hours_spent'] = job_invoice_fact.apply(lambda x: np.random.normal(x['avg_hours_per_job'], x['avg_hours_per_job'] * 0.1), axis=1)\n",
    "\n",
    "job_invoice_fact['hours_spent'] = job_invoice_fact['hours_spent'].round(0) # ensure round up\n",
    "job_invoice_fact['hours_spent'] = job_invoice_fact['hours_spent'].astype(int)\n",
    "\n",
    "# remove the avg_hours_per_job and jobs_completed columns\n",
    "job_invoice_fact = job_invoice_fact.drop(columns=['avg_hours_per_job', 'jobs_completed'])"
   ]
  },
  {
   "cell_type": "markdown",
   "metadata": {},
   "source": [
    "## Activity Date"
   ]
  },
  {
   "cell_type": "code",
   "execution_count": 11,
   "metadata": {},
   "outputs": [],
   "source": [
    "# rename search_time to activity_date\n",
    "job_invoice_fact = job_invoice_fact.rename(columns={'search_time': 'activity_date'})\n",
    "\n",
    "# convert activity_date to date only to remove time\n",
    "job_invoice_fact['activity_date'] = job_invoice_fact['activity_date'].dt.date\n",
    "\n",
    "# convert back to datetime\n",
    "job_invoice_fact['activity_date'] = pd.to_datetime(job_invoice_fact['activity_date'])"
   ]
  },
  {
   "cell_type": "markdown",
   "metadata": {},
   "source": [
    "## Tool Used"
   ]
  },
  {
   "cell_type": "code",
   "execution_count": 12,
   "metadata": {},
   "outputs": [],
   "source": [
    "# transform the 'skills' column into a list of elements and skip none elements\n",
    "job_invoice_fact['keywords_all'] = job_invoice_fact['keywords_all'].apply(lambda x: [item['element'] for item in x['list']] if x is not None else [])\n",
    "\n",
    "# create a new column called tool_used and populate it with the first element in the list from keywords_all\n",
    "job_invoice_fact['project_tool'] = job_invoice_fact['keywords_all'].apply(lambda x: x[0] if len(x) > 0 else None)\n",
    "\n",
    "# drop the keywords_all column\n",
    "job_invoice_fact = job_invoice_fact.drop(columns=['keywords_all'])\n"
   ]
  },
  {
   "cell_type": "markdown",
   "metadata": {},
   "source": [
    "## Hourly Rate"
   ]
  },
  {
   "cell_type": "code",
   "execution_count": 13,
   "metadata": {},
   "outputs": [],
   "source": [
    "# rename salary_hour to hours_rate\n",
    "job_invoice_fact = job_invoice_fact.rename(columns={'salary_hour': 'hours_rate'})"
   ]
  },
  {
   "cell_type": "markdown",
   "metadata": {},
   "source": [
    "## Convert to SQLite file"
   ]
  },
  {
   "cell_type": "code",
   "execution_count": 18,
   "metadata": {},
   "outputs": [],
   "source": [
    "# get columns in order\n",
    "invoices_fact = job_invoice_fact[['activity_id', 'activity_date', 'project_id', 'project_company', 'project_tool', 'nerd_id', 'nerd_role', \n",
    "       'hours_spent',  'hours_rate']]\n",
    "\n",
    "# convert into a sqlite database\n",
    "import sqlite3\n",
    "conn = sqlite3.connect('invoices_2023.db')\n",
    "invoices_fact.to_sql('invoices_fact', conn, if_exists='replace', index=False)\n",
    "conn.close()\n"
   ]
  },
  {
   "cell_type": "markdown",
   "metadata": {},
   "source": [
    "## Upload to BigQuery"
   ]
  },
  {
   "cell_type": "code",
   "execution_count": 19,
   "metadata": {},
   "outputs": [
    {
     "name": "stderr",
     "output_type": "stream",
     "text": [
      "100%|██████████| 1/1 [00:00<00:00, 10866.07it/s]\n"
     ]
    }
   ],
   "source": [
    "import pandas as pd\n",
    "from pandas_gbq import to_gbq\n",
    "\n",
    "to_gbq(invoices_fact, 'sql_tutorial_jobs.invoices_fact', project_id='job-listings-366015', if_exists='replace')"
   ]
  },
  {
   "cell_type": "code",
   "execution_count": null,
   "metadata": {},
   "outputs": [],
   "source": []
  }
 ],
 "metadata": {
  "kernelspec": {
   "display_name": "bigquery",
   "language": "python",
   "name": "python3"
  },
  "language_info": {
   "codemirror_mode": {
    "name": "ipython",
    "version": 3
   },
   "file_extension": ".py",
   "mimetype": "text/x-python",
   "name": "python",
   "nbconvert_exporter": "python",
   "pygments_lexer": "ipython3",
   "version": "3.11.0"
  }
 },
 "nbformat": 4,
 "nbformat_minor": 2
}
